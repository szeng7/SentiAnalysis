{
 "cells": [
  {
   "cell_type": "code",
   "execution_count": 2,
   "metadata": {},
   "outputs": [],
   "source": [
    "import numpy as np\n",
    "import pandas as pd\n",
    "import matplotlib.pyplot as plt"
   ]
  },
  {
   "cell_type": "markdown",
   "metadata": {},
   "source": [
    "## Finding and Cleaning Dataset\n",
    "\n",
    "The analyzed data is Amazon reviews of Androids Apps available for purchase through the platform. "
   ]
  },
  {
   "cell_type": "code",
   "execution_count": 4,
   "metadata": {},
   "outputs": [],
   "source": [
    "#Dataset from http://jmcauley.ucsd.edu/data/amazon/\n",
    "data = pd.read_json(\"../data/reviews.json\", lines=True)"
   ]
  },
  {
   "cell_type": "code",
   "execution_count": 5,
   "metadata": {},
   "outputs": [
    {
     "name": "stdout",
     "output_type": "stream",
     "text": [
      "Index(['asin', 'helpful', 'overall', 'reviewText', 'reviewTime', 'reviewerID',\n",
      "       'reviewerName', 'summary', 'unixReviewTime'],\n",
      "      dtype='object')\n"
     ]
    }
   ],
   "source": [
    "print(data.columns)"
   ]
  },
  {
   "cell_type": "code",
   "execution_count": 6,
   "metadata": {},
   "outputs": [
    {
     "name": "stdout",
     "output_type": "stream",
     "text": [
      "0\n",
      "0\n"
     ]
    }
   ],
   "source": [
    "#All of the values in the rating column are integer (no NaN). Try to check the same for \n",
    "#any other columns where we might use the values\n",
    "print(data.isnull().overall.sum())\n",
    "print(data.isnull().reviewText.sum())"
   ]
  },
  {
   "cell_type": "markdown",
   "metadata": {},
   "source": [
    "## Elementary Data Analysis"
   ]
  },
  {
   "cell_type": "code",
   "execution_count": 7,
   "metadata": {},
   "outputs": [
    {
     "name": "stdout",
     "output_type": "stream",
     "text": [
      "3.968930999539138\n",
      "5.0\n"
     ]
    }
   ],
   "source": [
    "print(data.overall.mean())\n",
    "print(data.overall.median())"
   ]
  },
  {
   "cell_type": "markdown",
   "metadata": {},
   "source": [
    "An interesting thing to note is that although the mean value of reviews is 3.96, the median is actually 5.0. This means that a surprising majority of the reviews gave the product a 5.0 while there were still a considerable amount of lower reviews (given the average, we can assume that they were around 1.0 or 2.0 star reviews)."
   ]
  },
  {
   "cell_type": "code",
   "execution_count": 8,
   "metadata": {},
   "outputs": [
    {
     "name": "stdout",
     "output_type": "stream",
     "text": [
      "overall\n",
      "1     78713\n",
      "2     44385\n",
      "3     85121\n",
      "4    158081\n",
      "5    386637\n",
      "Name: asin, dtype: int64\n",
      "1.8022623475015045\n"
     ]
    }
   ],
   "source": [
    "print(data.groupby('overall')['asin'].count())\n",
    "print(data.overall.var())"
   ]
  },
  {
   "cell_type": "markdown",
   "metadata": {},
   "source": [
    "The above confirms this suspicion. There is an overwhelming amount of 5 star reviews while there is still a handful of lower star reviews that drag down the average to be 3.9, showing a considerably high value of variance. It's important to look at this because later on, when we try to determine a good/bad review, we need to be able to accurate split the data into two categories. Splitting based on >3.0 and <3.0 may have seemed like a good idea at first, but after looking at the mean and variance, it seems are though >4.0 and <4.0 may allow for more balance, better training test sets and better results. "
   ]
  },
  {
   "cell_type": "markdown",
   "metadata": {},
   "source": [
    "## Special Pandas"
   ]
  },
  {
   "cell_type": "code",
   "execution_count": 9,
   "metadata": {},
   "outputs": [
    {
     "data": {
      "text/plain": [
       "0                                               Really cute\n",
       "11                                      Could be better....\n",
       "13                                  Good for small children\n",
       "33        Good functions, but so many others do this and...\n",
       "38                                     Long Time Subscriber\n",
       "43                                        Needs Improvement\n",
       "46                   Additional Cost involved with Rhapsody\n",
       "56                                               If only...\n",
       "57                                                It's Okay\n",
       "65              If you already have Rhapsody is a good app.\n",
       "87                                      Good but no history\n",
       "93                         YOU NEED INTERNET CONNECTION !!!\n",
       "97                                                 Devotion\n",
       "101                                                    good\n",
       "102                                     The Word of the Day\n",
       "110                             Can be frustrating at times\n",
       "138                                    Everyday in the Word\n",
       "144                                             Daily Bible\n",
       "155                                              Not For Me\n",
       "159                                             Please fix!\n",
       "171                                            Hard to read\n",
       "175                                                 i dunno\n",
       "197                               It's a blackberry port...\n",
       "206                     Poor instructions but not that bad.\n",
       "210                                         Not the best...\n",
       "216         The game plays well but just not enough action!\n",
       "218                                     Fun anf challenging\n",
       "255                                    free app of the day?\n",
       "263                                                 Not bad\n",
       "269                                                   So-So\n",
       "                                ...                        \n",
       "752549                  not happy that i have give a review\n",
       "752550                                          hint button\n",
       "752568                            i LOVE LiBii apps but....\n",
       "752576    May grandkids and I like the game but it keeps...\n",
       "752580    fun for a free game, but have some stability i...\n",
       "752588                                            It's Okay\n",
       "752592                                          Three Stars\n",
       "752594                                           Fix Please\n",
       "752603                               hate to love this game\n",
       "752607                              Does not work on tablet\n",
       "752611                                                  OMG\n",
       "752615                                             Its Okay\n",
       "752618                                             ITS CUTE\n",
       "752620               i like the games except all thenenergy\n",
       "752624                                    kinda cute.......\n",
       "752629                                           it's ight.\n",
       "752649                                               ALMOST\n",
       "752667                     FUN, BUT WANTS YOUR MONEY!!!!!!!\n",
       "752668                                                   ok\n",
       "752669                                                 Good\n",
       "752675                             surprisingly fun but....\n",
       "752734                                  lilteaser says this\n",
       "752764             this is my favorite game of all; however\n",
       "752804                                                   Ok\n",
       "752844                                          Three Stars\n",
       "752848                                        Nose Doctor X\n",
       "752893                        fun on the road, fun at home!\n",
       "752894                                            plate fun\n",
       "752903          Not too fond of this game yet. The grey ...\n",
       "752933    ... are so many free ones that are so much bet...\n",
       "Name: summary, Length: 85121, dtype: object"
      ]
     },
     "execution_count": 9,
     "metadata": {},
     "output_type": "execute_result"
    }
   ],
   "source": [
    "grouped = data.groupby('overall')\n",
    "grouped.get_group(3).summary"
   ]
  },
  {
   "cell_type": "markdown",
   "metadata": {},
   "source": [
    "As you can see from a quick glance at the 3 star reviews above, a good chunk of them seem to be very negative, especially linguistically. For example: \"Not too fond of this game yet\" \"need improvement\" \"can be frustrating at times.\" By lumping this together with the \"good reviews,\" our model may get confused with the sentiment meaning of each word (although the same could be said with putting it with the \"bad reviews\" but I believe this is the better option given that we have much more training data on \"good reviews.\"). "
   ]
  },
  {
   "cell_type": "markdown",
   "metadata": {},
   "source": [
    "## Matplotlib"
   ]
  },
  {
   "cell_type": "markdown",
   "metadata": {},
   "source": [
    "The purpose of this section is to look specifically at one product that has a lot of reviews (over 200) and then inspect how the ratings change over time. This is especially useful for pinpointing if there are periods during which the app received many low reviews and then a \"bounceback,\" which can be indicative of a new update that fixes errors that users had. From this graph, we can then look into the android play store and look at the specific time period of the bounceback to see how the creator adapted to the issues (to then see if this app/company is worth investing in)"
   ]
  },
  {
   "cell_type": "code",
   "execution_count": 11,
   "metadata": {},
   "outputs": [],
   "source": [
    "spec_data = data.loc[data['asin'] == 'B004DLPXAO']\n",
    "spec_data = spec_data[['overall', 'reviewTime']]"
   ]
  },
  {
   "cell_type": "code",
   "execution_count": 12,
   "metadata": {},
   "outputs": [
    {
     "data": {
      "text/html": [
       "<div>\n",
       "<style scoped>\n",
       "    .dataframe tbody tr th:only-of-type {\n",
       "        vertical-align: middle;\n",
       "    }\n",
       "\n",
       "    .dataframe tbody tr th {\n",
       "        vertical-align: top;\n",
       "    }\n",
       "\n",
       "    .dataframe thead th {\n",
       "        text-align: right;\n",
       "    }\n",
       "</style>\n",
       "<table border=\"1\" class=\"dataframe\">\n",
       "  <thead>\n",
       "    <tr style=\"text-align: right;\">\n",
       "      <th></th>\n",
       "      <th>overall</th>\n",
       "      <th>month_year</th>\n",
       "    </tr>\n",
       "  </thead>\n",
       "  <tbody>\n",
       "    <tr>\n",
       "      <th>1338</th>\n",
       "      <td>4</td>\n",
       "      <td>2014-07-16</td>\n",
       "    </tr>\n",
       "    <tr>\n",
       "      <th>1339</th>\n",
       "      <td>5</td>\n",
       "      <td>2011-10-28</td>\n",
       "    </tr>\n",
       "    <tr>\n",
       "      <th>1340</th>\n",
       "      <td>4</td>\n",
       "      <td>2014-01-25</td>\n",
       "    </tr>\n",
       "    <tr>\n",
       "      <th>1341</th>\n",
       "      <td>5</td>\n",
       "      <td>2013-01-27</td>\n",
       "    </tr>\n",
       "    <tr>\n",
       "      <th>1342</th>\n",
       "      <td>2</td>\n",
       "      <td>2014-04-13</td>\n",
       "    </tr>\n",
       "    <tr>\n",
       "      <th>1343</th>\n",
       "      <td>4</td>\n",
       "      <td>2011-03-27</td>\n",
       "    </tr>\n",
       "    <tr>\n",
       "      <th>1344</th>\n",
       "      <td>5</td>\n",
       "      <td>2014-01-11</td>\n",
       "    </tr>\n",
       "    <tr>\n",
       "      <th>1345</th>\n",
       "      <td>5</td>\n",
       "      <td>2013-01-15</td>\n",
       "    </tr>\n",
       "    <tr>\n",
       "      <th>1346</th>\n",
       "      <td>5</td>\n",
       "      <td>2014-03-21</td>\n",
       "    </tr>\n",
       "    <tr>\n",
       "      <th>1347</th>\n",
       "      <td>5</td>\n",
       "      <td>2013-10-11</td>\n",
       "    </tr>\n",
       "    <tr>\n",
       "      <th>1348</th>\n",
       "      <td>5</td>\n",
       "      <td>2013-08-05</td>\n",
       "    </tr>\n",
       "    <tr>\n",
       "      <th>1349</th>\n",
       "      <td>5</td>\n",
       "      <td>2012-12-19</td>\n",
       "    </tr>\n",
       "    <tr>\n",
       "      <th>1350</th>\n",
       "      <td>5</td>\n",
       "      <td>2012-03-29</td>\n",
       "    </tr>\n",
       "    <tr>\n",
       "      <th>1351</th>\n",
       "      <td>5</td>\n",
       "      <td>2013-10-13</td>\n",
       "    </tr>\n",
       "    <tr>\n",
       "      <th>1352</th>\n",
       "      <td>5</td>\n",
       "      <td>2013-09-07</td>\n",
       "    </tr>\n",
       "    <tr>\n",
       "      <th>1353</th>\n",
       "      <td>5</td>\n",
       "      <td>2013-07-21</td>\n",
       "    </tr>\n",
       "    <tr>\n",
       "      <th>1354</th>\n",
       "      <td>5</td>\n",
       "      <td>2014-01-29</td>\n",
       "    </tr>\n",
       "    <tr>\n",
       "      <th>1355</th>\n",
       "      <td>3</td>\n",
       "      <td>2012-02-05</td>\n",
       "    </tr>\n",
       "    <tr>\n",
       "      <th>1356</th>\n",
       "      <td>4</td>\n",
       "      <td>2013-06-21</td>\n",
       "    </tr>\n",
       "    <tr>\n",
       "      <th>1357</th>\n",
       "      <td>5</td>\n",
       "      <td>2014-07-02</td>\n",
       "    </tr>\n",
       "    <tr>\n",
       "      <th>1358</th>\n",
       "      <td>2</td>\n",
       "      <td>2012-02-15</td>\n",
       "    </tr>\n",
       "    <tr>\n",
       "      <th>1359</th>\n",
       "      <td>1</td>\n",
       "      <td>2013-06-13</td>\n",
       "    </tr>\n",
       "    <tr>\n",
       "      <th>1360</th>\n",
       "      <td>5</td>\n",
       "      <td>2013-05-01</td>\n",
       "    </tr>\n",
       "    <tr>\n",
       "      <th>1361</th>\n",
       "      <td>5</td>\n",
       "      <td>2011-06-21</td>\n",
       "    </tr>\n",
       "    <tr>\n",
       "      <th>1362</th>\n",
       "      <td>5</td>\n",
       "      <td>2013-05-18</td>\n",
       "    </tr>\n",
       "    <tr>\n",
       "      <th>1363</th>\n",
       "      <td>5</td>\n",
       "      <td>2014-05-23</td>\n",
       "    </tr>\n",
       "    <tr>\n",
       "      <th>1364</th>\n",
       "      <td>4</td>\n",
       "      <td>2012-03-02</td>\n",
       "    </tr>\n",
       "    <tr>\n",
       "      <th>1365</th>\n",
       "      <td>1</td>\n",
       "      <td>2012-07-03</td>\n",
       "    </tr>\n",
       "    <tr>\n",
       "      <th>1366</th>\n",
       "      <td>3</td>\n",
       "      <td>2013-03-20</td>\n",
       "    </tr>\n",
       "    <tr>\n",
       "      <th>1367</th>\n",
       "      <td>5</td>\n",
       "      <td>2014-02-20</td>\n",
       "    </tr>\n",
       "    <tr>\n",
       "      <th>...</th>\n",
       "      <td>...</td>\n",
       "      <td>...</td>\n",
       "    </tr>\n",
       "    <tr>\n",
       "      <th>1879</th>\n",
       "      <td>2</td>\n",
       "      <td>2012-01-09</td>\n",
       "    </tr>\n",
       "    <tr>\n",
       "      <th>1880</th>\n",
       "      <td>5</td>\n",
       "      <td>2014-04-07</td>\n",
       "    </tr>\n",
       "    <tr>\n",
       "      <th>1881</th>\n",
       "      <td>5</td>\n",
       "      <td>2013-08-24</td>\n",
       "    </tr>\n",
       "    <tr>\n",
       "      <th>1882</th>\n",
       "      <td>5</td>\n",
       "      <td>2013-01-19</td>\n",
       "    </tr>\n",
       "    <tr>\n",
       "      <th>1883</th>\n",
       "      <td>5</td>\n",
       "      <td>2014-03-17</td>\n",
       "    </tr>\n",
       "    <tr>\n",
       "      <th>1884</th>\n",
       "      <td>5</td>\n",
       "      <td>2012-09-06</td>\n",
       "    </tr>\n",
       "    <tr>\n",
       "      <th>1885</th>\n",
       "      <td>5</td>\n",
       "      <td>2011-03-22</td>\n",
       "    </tr>\n",
       "    <tr>\n",
       "      <th>1886</th>\n",
       "      <td>5</td>\n",
       "      <td>2013-10-02</td>\n",
       "    </tr>\n",
       "    <tr>\n",
       "      <th>1887</th>\n",
       "      <td>4</td>\n",
       "      <td>2012-11-15</td>\n",
       "    </tr>\n",
       "    <tr>\n",
       "      <th>1888</th>\n",
       "      <td>5</td>\n",
       "      <td>2011-09-30</td>\n",
       "    </tr>\n",
       "    <tr>\n",
       "      <th>1889</th>\n",
       "      <td>1</td>\n",
       "      <td>2012-11-25</td>\n",
       "    </tr>\n",
       "    <tr>\n",
       "      <th>1890</th>\n",
       "      <td>5</td>\n",
       "      <td>2014-04-03</td>\n",
       "    </tr>\n",
       "    <tr>\n",
       "      <th>1891</th>\n",
       "      <td>5</td>\n",
       "      <td>2013-02-20</td>\n",
       "    </tr>\n",
       "    <tr>\n",
       "      <th>1892</th>\n",
       "      <td>5</td>\n",
       "      <td>2012-04-29</td>\n",
       "    </tr>\n",
       "    <tr>\n",
       "      <th>1893</th>\n",
       "      <td>1</td>\n",
       "      <td>2013-08-12</td>\n",
       "    </tr>\n",
       "    <tr>\n",
       "      <th>1894</th>\n",
       "      <td>5</td>\n",
       "      <td>2013-12-29</td>\n",
       "    </tr>\n",
       "    <tr>\n",
       "      <th>1895</th>\n",
       "      <td>5</td>\n",
       "      <td>2013-08-13</td>\n",
       "    </tr>\n",
       "    <tr>\n",
       "      <th>1896</th>\n",
       "      <td>5</td>\n",
       "      <td>2013-02-09</td>\n",
       "    </tr>\n",
       "    <tr>\n",
       "      <th>1897</th>\n",
       "      <td>5</td>\n",
       "      <td>2013-03-18</td>\n",
       "    </tr>\n",
       "    <tr>\n",
       "      <th>1898</th>\n",
       "      <td>4</td>\n",
       "      <td>2013-10-15</td>\n",
       "    </tr>\n",
       "    <tr>\n",
       "      <th>1899</th>\n",
       "      <td>5</td>\n",
       "      <td>2014-01-04</td>\n",
       "    </tr>\n",
       "    <tr>\n",
       "      <th>1900</th>\n",
       "      <td>4</td>\n",
       "      <td>2014-07-09</td>\n",
       "    </tr>\n",
       "    <tr>\n",
       "      <th>1901</th>\n",
       "      <td>4</td>\n",
       "      <td>2012-11-06</td>\n",
       "    </tr>\n",
       "    <tr>\n",
       "      <th>1902</th>\n",
       "      <td>5</td>\n",
       "      <td>2012-06-27</td>\n",
       "    </tr>\n",
       "    <tr>\n",
       "      <th>1903</th>\n",
       "      <td>5</td>\n",
       "      <td>2013-10-15</td>\n",
       "    </tr>\n",
       "    <tr>\n",
       "      <th>1904</th>\n",
       "      <td>4</td>\n",
       "      <td>2013-06-27</td>\n",
       "    </tr>\n",
       "    <tr>\n",
       "      <th>1905</th>\n",
       "      <td>5</td>\n",
       "      <td>2014-01-06</td>\n",
       "    </tr>\n",
       "    <tr>\n",
       "      <th>1906</th>\n",
       "      <td>5</td>\n",
       "      <td>2012-11-19</td>\n",
       "    </tr>\n",
       "    <tr>\n",
       "      <th>1907</th>\n",
       "      <td>5</td>\n",
       "      <td>2013-01-04</td>\n",
       "    </tr>\n",
       "    <tr>\n",
       "      <th>1908</th>\n",
       "      <td>2</td>\n",
       "      <td>2011-09-24</td>\n",
       "    </tr>\n",
       "  </tbody>\n",
       "</table>\n",
       "<p>571 rows × 2 columns</p>\n",
       "</div>"
      ],
      "text/plain": [
       "      overall month_year\n",
       "1338        4 2014-07-16\n",
       "1339        5 2011-10-28\n",
       "1340        4 2014-01-25\n",
       "1341        5 2013-01-27\n",
       "1342        2 2014-04-13\n",
       "1343        4 2011-03-27\n",
       "1344        5 2014-01-11\n",
       "1345        5 2013-01-15\n",
       "1346        5 2014-03-21\n",
       "1347        5 2013-10-11\n",
       "1348        5 2013-08-05\n",
       "1349        5 2012-12-19\n",
       "1350        5 2012-03-29\n",
       "1351        5 2013-10-13\n",
       "1352        5 2013-09-07\n",
       "1353        5 2013-07-21\n",
       "1354        5 2014-01-29\n",
       "1355        3 2012-02-05\n",
       "1356        4 2013-06-21\n",
       "1357        5 2014-07-02\n",
       "1358        2 2012-02-15\n",
       "1359        1 2013-06-13\n",
       "1360        5 2013-05-01\n",
       "1361        5 2011-06-21\n",
       "1362        5 2013-05-18\n",
       "1363        5 2014-05-23\n",
       "1364        4 2012-03-02\n",
       "1365        1 2012-07-03\n",
       "1366        3 2013-03-20\n",
       "1367        5 2014-02-20\n",
       "...       ...        ...\n",
       "1879        2 2012-01-09\n",
       "1880        5 2014-04-07\n",
       "1881        5 2013-08-24\n",
       "1882        5 2013-01-19\n",
       "1883        5 2014-03-17\n",
       "1884        5 2012-09-06\n",
       "1885        5 2011-03-22\n",
       "1886        5 2013-10-02\n",
       "1887        4 2012-11-15\n",
       "1888        5 2011-09-30\n",
       "1889        1 2012-11-25\n",
       "1890        5 2014-04-03\n",
       "1891        5 2013-02-20\n",
       "1892        5 2012-04-29\n",
       "1893        1 2013-08-12\n",
       "1894        5 2013-12-29\n",
       "1895        5 2013-08-13\n",
       "1896        5 2013-02-09\n",
       "1897        5 2013-03-18\n",
       "1898        4 2013-10-15\n",
       "1899        5 2014-01-04\n",
       "1900        4 2014-07-09\n",
       "1901        4 2012-11-06\n",
       "1902        5 2012-06-27\n",
       "1903        5 2013-10-15\n",
       "1904        4 2013-06-27\n",
       "1905        5 2014-01-06\n",
       "1906        5 2012-11-19\n",
       "1907        5 2013-01-04\n",
       "1908        2 2011-09-24\n",
       "\n",
       "[571 rows x 2 columns]"
      ]
     },
     "execution_count": 12,
     "metadata": {},
     "output_type": "execute_result"
    }
   ],
   "source": [
    "spec_data['month_year'] = pd.to_datetime(spec_data.reviewTime)\n",
    "spec_data.drop(columns='reviewTime')"
   ]
  },
  {
   "cell_type": "code",
   "execution_count": 13,
   "metadata": {},
   "outputs": [],
   "source": [
    "graph_data = spec_data.groupby([(spec_data.month_year.dt.year),(spec_data.month_year.dt.month)]).mean()"
   ]
  },
  {
   "cell_type": "code",
   "execution_count": 14,
   "metadata": {},
   "outputs": [],
   "source": [
    "month_start = 3\n",
    "year_start = 2011\n",
    "x_val = []\n",
    "while (month_start != 8) or (year_start != 2014):\n",
    "    add_x = str(month_start) + '-' + str(year_start)\n",
    "    x_val.append(add_x)\n",
    "    month_start+=1\n",
    "    if(month_start > 12):\n",
    "        month_start = 1\n",
    "        year_start += 1"
   ]
  },
  {
   "cell_type": "code",
   "execution_count": 15,
   "metadata": {},
   "outputs": [
    {
     "data": {
      "image/png": "[encoded data removed]",
      "text/plain": [
       "<Figure size 432x288 with 1 Axes>"
      ]
     },
     "metadata": {
      "needs_background": "light"
     },
     "output_type": "display_data"
    }
   ],
   "source": [
    "plt.plot(x_val, graph_data.overall.values)\n",
    "plt.title(\"Change in Monthly Review Rating of ASIN B004DLPXAO from 3-2011 to 7-2014\")\n",
    "plt.xlabel(\"Time\")\n",
    "plt.ylabel(\"Rating (out of 5)\")\n",
    "plt.tick_params(axis='x', which='both', bottom=False, labelbottom=False)\n",
    "plt.show()"
   ]
  },
  {
   "cell_type": "markdown",
   "metadata": {},
   "source": [
    "## Sklearn"
   ]
  },
  {
   "cell_type": "markdown",
   "metadata": {},
   "source": [
    "Sentiment Analysis, essentially looking at the \"feelings\" or \"opinions\" expressed by words in a text, is a huge part of Natural Language Processing. Therefore, what will be done below is taking all of the Amazon Android App product reviews, mapping each one to a 0 or 1 label (good review/bad review) based on the rating given and using that data to train a model (supervised binary classification with logistic regression). We're going to make this a supervised task because our data is already conveniently labeled for us (the rating)."
   ]
  },
  {
   "cell_type": "code",
   "execution_count": 189,
   "metadata": {},
   "outputs": [],
   "source": [
    "import sklearn"
   ]
  },
  {
   "cell_type": "markdown",
   "metadata": {},
   "source": [
    "Starting off with a small sample of the data to figure out the best regularization parameter (and for testing this on a reasonably sized dataset). We'll also be grabbing 500 random rows as our test set at this time."
   ]
  },
  {
   "cell_type": "code",
   "execution_count": 355,
   "metadata": {},
   "outputs": [
    {
     "data": {
      "text/html": [
       "<div>\n",
       "<style scoped>\n",
       "    .dataframe tbody tr th:only-of-type {\n",
       "        vertical-align: middle;\n",
       "    }\n",
       "\n",
       "    .dataframe tbody tr th {\n",
       "        vertical-align: top;\n",
       "    }\n",
       "\n",
       "    .dataframe thead th {\n",
       "        text-align: right;\n",
       "    }\n",
       "</style>\n",
       "<table border=\"1\" class=\"dataframe\">\n",
       "  <thead>\n",
       "    <tr style=\"text-align: right;\">\n",
       "      <th></th>\n",
       "      <th>reviewText</th>\n",
       "    </tr>\n",
       "    <tr>\n",
       "      <th>overall</th>\n",
       "      <th></th>\n",
       "    </tr>\n",
       "  </thead>\n",
       "  <tbody>\n",
       "    <tr>\n",
       "      <th>1</th>\n",
       "      <td>128</td>\n",
       "    </tr>\n",
       "    <tr>\n",
       "      <th>2</th>\n",
       "      <td>86</td>\n",
       "    </tr>\n",
       "    <tr>\n",
       "      <th>3</th>\n",
       "      <td>133</td>\n",
       "    </tr>\n",
       "    <tr>\n",
       "      <th>4</th>\n",
       "      <td>173</td>\n",
       "    </tr>\n",
       "    <tr>\n",
       "      <th>5</th>\n",
       "      <td>480</td>\n",
       "    </tr>\n",
       "  </tbody>\n",
       "</table>\n",
       "</div>"
      ],
      "text/plain": [
       "         reviewText\n",
       "overall            \n",
       "1               128\n",
       "2                86\n",
       "3               133\n",
       "4               173\n",
       "5               480"
      ]
     },
     "execution_count": 355,
     "metadata": {},
     "output_type": "execute_result"
    }
   ],
   "source": [
    "data_sample = data[['overall', 'reviewText']][0:1000].groupby('overall')\n",
    "data_sample.count()"
   ]
  },
  {
   "cell_type": "markdown",
   "metadata": {},
   "source": [
    "For all tasks with text data, it's best to start off by cleaning the data, removing all punctuation and making everything lowercase."
   ]
  },
  {
   "cell_type": "code",
   "execution_count": 338,
   "metadata": {},
   "outputs": [],
   "source": [
    "import re\n",
    "\n",
    "REPLACE_NO_SPACE = re.compile(\"(\\.)|(\\;)|(\\:)|(\\!)|(\\')|(\\?)|(\\,)|(\\\")|(\\()|(\\))|(\\[)|(\\])|(\\#)\")\n",
    "REPLACE_WITH_SPACE = re.compile(\"(<br\\s*/><br\\s*/>)|(\\-)|(\\/)|(\\&)\")\n",
    "\n",
    "def preprocess_reviews(reviews):\n",
    "    reviews = [REPLACE_NO_SPACE.sub(\"\", line.lower()) for line in reviews]\n",
    "    reviews = [REPLACE_WITH_SPACE.sub(\" \", line) for line in reviews]\n",
    "    return reviews"
   ]
  },
  {
   "cell_type": "markdown",
   "metadata": {},
   "source": [
    "Now we should vectorize the data (so that we're dealing with numbers versus words) through one hot encoding"
   ]
  },
  {
   "cell_type": "code",
   "execution_count": 385,
   "metadata": {},
   "outputs": [],
   "source": [
    "from sklearn.feature_extraction.text import CountVectorizer\n",
    "\n",
    "train_sample_clean = []\n",
    "\n",
    "for x in range(1,6):\n",
    "    train_sample_clean += preprocess_reviews(data_sample.get_group(x)['reviewText'])\n",
    "    \n",
    "cv = CountVectorizer(binary=True)\n",
    "cv.fit(train_sample_clean)\n",
    "X_sample = cv.transform(train_sample_clean)"
   ]
  },
  {
   "cell_type": "markdown",
   "metadata": {},
   "source": [
    "Now training the model with our sample data and then seeing the best hyperparameter value to use for final training (of which we'll use 0.1)"
   ]
  },
  {
   "cell_type": "code",
   "execution_count": 386,
   "metadata": {},
   "outputs": [
    {
     "name": "stdout",
     "output_type": "stream",
     "text": [
      "Accuracy for C=0.01: 0.696\n",
      "Accuracy for C=0.05: 0.736\n",
      "Accuracy for C=0.1: 0.752\n",
      "Accuracy for C=0.2: 0.752\n",
      "Accuracy for C=0.25: 0.752\n",
      "Accuracy for C=0.5: 0.744\n",
      "Accuracy for C=1: 0.744\n"
     ]
    }
   ],
   "source": [
    "from sklearn.linear_model import LogisticRegression\n",
    "from sklearn.metrics import accuracy_score\n",
    "from sklearn.model_selection import train_test_split\n",
    "\n",
    "target_sample = [0 if i < 347 else 1 for i in range(1000)]\n",
    "\n",
    "X_train_sample, X_test_sample, y_train_sample, y_test_sample = train_test_split(\n",
    "    X_sample, target_sample, train_size = 0.75\n",
    ")\n",
    "\n",
    "for c in [0.01, 0.05, 0.10, 0.20, .25, 0.5, 1]:\n",
    "    \n",
    "    lr = LogisticRegression(C=c)\n",
    "    lr.fit(X_train_sample, y_train_sample)\n",
    "    print (\"Accuracy for C=%s: %s\" \n",
    "           % (c, accuracy_score(y_test_sample, lr.predict(X_test_sample))))"
   ]
  },
  {
   "cell_type": "markdown",
   "metadata": {},
   "source": [
    "Now we'll try training on the entire dataset"
   ]
  },
  {
   "cell_type": "code",
   "execution_count": 388,
   "metadata": {},
   "outputs": [
    {
     "data": {
      "text/html": [
       "<div>\n",
       "<style scoped>\n",
       "    .dataframe tbody tr th:only-of-type {\n",
       "        vertical-align: middle;\n",
       "    }\n",
       "\n",
       "    .dataframe tbody tr th {\n",
       "        vertical-align: top;\n",
       "    }\n",
       "\n",
       "    .dataframe thead th {\n",
       "        text-align: right;\n",
       "    }\n",
       "</style>\n",
       "<table border=\"1\" class=\"dataframe\">\n",
       "  <thead>\n",
       "    <tr style=\"text-align: right;\">\n",
       "      <th></th>\n",
       "      <th>reviewText</th>\n",
       "    </tr>\n",
       "    <tr>\n",
       "      <th>overall</th>\n",
       "      <th></th>\n",
       "    </tr>\n",
       "  </thead>\n",
       "  <tbody>\n",
       "    <tr>\n",
       "      <th>1</th>\n",
       "      <td>78713</td>\n",
       "    </tr>\n",
       "    <tr>\n",
       "      <th>2</th>\n",
       "      <td>44385</td>\n",
       "    </tr>\n",
       "    <tr>\n",
       "      <th>3</th>\n",
       "      <td>85121</td>\n",
       "    </tr>\n",
       "    <tr>\n",
       "      <th>4</th>\n",
       "      <td>158081</td>\n",
       "    </tr>\n",
       "    <tr>\n",
       "      <th>5</th>\n",
       "      <td>386637</td>\n",
       "    </tr>\n",
       "  </tbody>\n",
       "</table>\n",
       "</div>"
      ],
      "text/plain": [
       "         reviewText\n",
       "overall            \n",
       "1             78713\n",
       "2             44385\n",
       "3             85121\n",
       "4            158081\n",
       "5            386637"
      ]
     },
     "execution_count": 388,
     "metadata": {},
     "output_type": "execute_result"
    }
   ],
   "source": [
    "data_train = data[['overall', 'reviewText']].groupby('overall')\n",
    "data_train.count()"
   ]
  },
  {
   "cell_type": "code",
   "execution_count": 390,
   "metadata": {},
   "outputs": [],
   "source": [
    "train_clean = []\n",
    "\n",
    "for x in range(1,6):\n",
    "    train_clean += preprocess_reviews(data_train.get_group(x)['reviewText'])\n",
    "\n",
    "cv = CountVectorizer(binary=True)\n",
    "cv.fit(train_clean)\n",
    "X = cv.transform(train_clean)"
   ]
  },
  {
   "cell_type": "code",
   "execution_count": 395,
   "metadata": {},
   "outputs": [
    {
     "name": "stdout",
     "output_type": "stream",
     "text": [
      "Accuracy for C=0.10: 0.8656094775148087\n"
     ]
    }
   ],
   "source": [
    "target = [0 if i < 208219 else 1 for i in range(752937)]\n",
    "\n",
    "X_train, X_test, y_train, y_test = train_test_split(\n",
    "    X, target, train_size = 0.75\n",
    ")\n",
    "\n",
    "final = LogisticRegression(C=0.05)\n",
    "final.fit(X_train, y_train)\n",
    "print (\"Accuracy for C=0.10: %s\" \n",
    "        % (accuracy_score(y_test, final.predict(X_test))))"
   ]
  },
  {
   "cell_type": "markdown",
   "metadata": {},
   "source": [
    "Just so we can be certain that our model is actually working, we can look at the 10 words with the highest coefficients and the top words with the lowest coefficients (these loosely indicate, with respect to each other, the words with the most \"weight\" on determining if a review is positive or negative respectively)"
   ]
  },
  {
   "cell_type": "code",
   "execution_count": 401,
   "metadata": {},
   "outputs": [
    {
     "name": "stdout",
     "output_type": "stream",
     "text": [
      "('awesome', 1.6818515173626531)\n",
      "('amazing', 1.5361534791695488)\n",
      "('love', 1.4817169231051412)\n",
      "('addicting', 1.4017080906931805)\n",
      "('awsome', 1.3855945556709497)\n",
      "('addicted', 1.3734709879320028)\n",
      "('addictive', 1.3338081990911919)\n",
      "('luv', 1.3013042364457492)\n",
      "('rocks', 1.2804683040673004)\n",
      "('wonderful', 1.271428547032307)\n"
     ]
    }
   ],
   "source": [
    "feature_to_coef = {\n",
    "    word: coef for word, coef in zip(\n",
    "        cv.get_feature_names(), final.coef_[0]\n",
    "    )\n",
    "}\n",
    "\n",
    "for best_positive in sorted(\n",
    "    feature_to_coef.items(), \n",
    "    key=lambda x: x[1], \n",
    "    reverse=True)[:10]:\n",
    "    print (best_positive)"
   ]
  },
  {
   "cell_type": "code",
   "execution_count": 400,
   "metadata": {},
   "outputs": [
    {
     "name": "stdout",
     "output_type": "stream",
     "text": [
      "('uninstalled', -1.8698815139145946)\n",
      "('worst', -1.8169994587038232)\n",
      "('deleted', -1.816492267949209)\n",
      "('terrible', -1.5189429132363357)\n",
      "('horrible', -1.4842666889228289)\n",
      "('removed', -1.457544481384688)\n",
      "('sucks', -1.418044589039837)\n",
      "('uninstalling', -1.412900113734593)\n",
      "('disappointing', -1.406686282130439)\n",
      "('okay', -1.3922510274603668)\n"
     ]
    }
   ],
   "source": [
    "for best_negative in sorted(\n",
    "    feature_to_coef.items(), \n",
    "    key=lambda x: x[1])[:10]:\n",
    "    print (best_negative)"
   ]
  },
  {
   "cell_type": "code",
   "execution_count": null,
   "metadata": {},
   "outputs": [],
   "source": []
  }
 ],
 "metadata": {
  "kernelspec": {
   "display_name": "Python 3",
   "language": "python",
   "name": "python3"
  },
  "language_info": {
   "codemirror_mode": {
    "name": "ipython",
    "version": 3
   },
   "file_extension": ".py",
   "mimetype": "text/x-python",
   "name": "python",
   "nbconvert_exporter": "python",
   "pygments_lexer": "ipython3",
   "version": "3.7.1"
  }
 },
 "nbformat": 4,
 "nbformat_minor": 2
}
